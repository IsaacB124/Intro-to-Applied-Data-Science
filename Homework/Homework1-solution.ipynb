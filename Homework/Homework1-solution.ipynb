{
 "cells": [
  {
   "cell_type": "markdown",
   "metadata": {},
   "source": [
    "## PHYS050-Summer 2020: Homework 1 solution"
   ]
  },
  {
   "cell_type": "code",
   "execution_count": 34,
   "metadata": {},
   "outputs": [],
   "source": [
    "import numpy as np\n",
    "import matplotlib.pylab as plt\n",
    "from pylab import rcParams\n",
    "rcParams['font.family'] = 'serif'\n",
    "import time"
   ]
  },
  {
   "cell_type": "markdown",
   "metadata": {},
   "source": [
    "### Part C)"
   ]
  },
  {
   "cell_type": "code",
   "execution_count": 35,
   "metadata": {},
   "outputs": [],
   "source": [
    "Possible_move = {\n",
    "  0: [0,0,0,0,0,0,0,0,1,0],\n",
    "  1: [0,0,1,0,1,0,0,0,0,0],\n",
    "  2: [0,1,0,1,0,1,0,0,0,0],\n",
    "  3: [0,0,1,0,0,0,1,0,0,0],\n",
    "  4: [0,1,0,0,0,1,0,1,0,0],\n",
    "  5: [0,0,1,0,1,0,1,0,1,0],\n",
    "  6: [0,0,0,1,0,1,0,0,0,1],\n",
    "  7: [0,0,0,0,1,0,0,0,1,0],\n",
    "  8: [1,0,0,0,0,1,0,1,0,1],\n",
    "  9: [0,0,0,0,0,0,1,0,1,0],\n",
    "}"
   ]
  },
  {
   "cell_type": "code",
   "execution_count": 36,
   "metadata": {},
   "outputs": [
    {
     "data": {
      "text/plain": [
       "[[0, 0, 0, 0, 0, 0, 0, 0, 1, 0],\n",
       " [0, 0, 1, 0, 1, 0, 0, 0, 0, 0],\n",
       " [0, 1, 0, 1, 0, 1, 0, 0, 0, 0],\n",
       " [0, 0, 1, 0, 0, 0, 1, 0, 0, 0],\n",
       " [0, 1, 0, 0, 0, 1, 0, 1, 0, 0],\n",
       " [0, 0, 1, 0, 1, 0, 1, 0, 1, 0],\n",
       " [0, 0, 0, 1, 0, 1, 0, 0, 0, 1],\n",
       " [0, 0, 0, 0, 1, 0, 0, 0, 1, 0],\n",
       " [1, 0, 0, 0, 0, 1, 0, 1, 0, 1],\n",
       " [0, 0, 0, 0, 0, 0, 1, 0, 1, 0]]"
      ]
     },
     "execution_count": 36,
     "metadata": {},
     "output_type": "execute_result"
    }
   ],
   "source": [
    "A=list(Possible_move.values())\n",
    "A"
   ]
  },
  {
   "cell_type": "code",
   "execution_count": 37,
   "metadata": {},
   "outputs": [],
   "source": [
    "v=[[1],[1],[1],[1],[1],[1],[1],[1],[1],[1]]"
   ]
  },
  {
   "cell_type": "code",
   "execution_count": 38,
   "metadata": {},
   "outputs": [],
   "source": [
    "A_mat=np.matrix(A)\n",
    "v_mat=np.matrix(v)"
   ]
  },
  {
   "cell_type": "code",
   "execution_count": 39,
   "metadata": {},
   "outputs": [
    {
     "data": {
      "text/plain": [
       "True"
      ]
     },
     "execution_count": 39,
     "metadata": {},
     "output_type": "execute_result"
    }
   ],
   "source": [
    "np.any(A_mat==A_mat.T)"
   ]
  },
  {
   "cell_type": "markdown",
   "metadata": {},
   "source": [
    "### Part d)"
   ]
  },
  {
   "cell_type": "code",
   "execution_count": 40,
   "metadata": {},
   "outputs": [],
   "source": [
    "def DialerProblem(S,N,A_=A_mat[:],v_=v_mat[:]):\n",
    "    if N<2:\n",
    "        return ('N should be >1')\n",
    "    else:\n",
    "        A=A_*v_\n",
    "        t1=time.time()\n",
    "        for i in range(N-2):\n",
    "            A=A_*A\n",
    "        t2=time.time()\n",
    "    return (int(A[S]),(t2-t1)*1000)"
   ]
  },
  {
   "cell_type": "code",
   "execution_count": 41,
   "metadata": {},
   "outputs": [
    {
     "name": "stdout",
     "output_type": "stream",
     "text": [
      "DialerProblem(5,10)= 18713 and takes 0.05507469177246094 ms\n"
     ]
    }
   ],
   "source": [
    "print(\"DialerProblem(5,10)=\",DialerProblem(5,10)[0], \"and takes\" ,DialerProblem(5,10)[1], \"ms\")"
   ]
  },
  {
   "cell_type": "markdown",
   "metadata": {},
   "source": [
    "### Part e)"
   ]
  },
  {
   "cell_type": "code",
   "execution_count": 42,
   "metadata": {},
   "outputs": [],
   "source": [
    "def MatrixMulti(A,B):\n",
    "    \"\"\"\n",
    "    A function which computes matrix multiplication of the first \n",
    "    and second inputs. Inputs should be list-like.\n",
    "    \"\"\"\n",
    "    \n",
    "    if len(A[0])==len(B):\n",
    "        R=[[sum(x*y for x,y in zip(A_row,B_col)) for B_col in zip(*B)] for A_row in A]\n",
    "        return R\n",
    "    else: \n",
    "        print('Matrix dimensions do not match')"
   ]
  },
  {
   "cell_type": "code",
   "execution_count": 43,
   "metadata": {},
   "outputs": [],
   "source": [
    "def DialerProblem_no_numpy(S,N,A_=A[:],v_=v[:]):\n",
    "    if N<2:\n",
    "        return ('N should be >1')\n",
    "    else:\n",
    "        A=MatrixMulti(A_,v_)\n",
    "        t1=time.time()\n",
    "        for i in range(N-2):\n",
    "            A=MatrixMulti(A_,A)\n",
    "        t2=time.time()\n",
    "    return (A[S][0],(t2-t1)*1000)"
   ]
  },
  {
   "cell_type": "code",
   "execution_count": 44,
   "metadata": {},
   "outputs": [
    {
     "name": "stdout",
     "output_type": "stream",
     "text": [
      "DialerProblem_no_numpy(5,10)= 18713 and takes 0.16880035400390625 ms\n"
     ]
    }
   ],
   "source": [
    "print(\"DialerProblem_no_numpy(5,10)=\",DialerProblem_no_numpy(5,10)[0], \"and takes\" ,DialerProblem_no_numpy(5,10)[1], \"ms\")"
   ]
  },
  {
   "cell_type": "markdown",
   "metadata": {},
   "source": [
    "### Part f)"
   ]
  },
  {
   "cell_type": "code",
   "execution_count": 45,
   "metadata": {},
   "outputs": [],
   "source": [
    "N=np.arange(2,1001)\n",
    "T=[]\n",
    "for i in N:\n",
    "    T.append(DialerProblem(5, i)[1])"
   ]
  },
  {
   "cell_type": "code",
   "execution_count": 46,
   "metadata": {},
   "outputs": [
    {
     "data": {
      "image/png": "[encoded data removed]",
      "text/plain": [
       "<Figure size 612x612 with 1 Axes>"
      ]
     },
     "metadata": {
      "needs_background": "light"
     },
     "output_type": "display_data"
    }
   ],
   "source": [
    "  \n",
    "fig, ax = plt.subplots(1, 1,  figsize=(8.5,8.5))\n",
    "\n",
    "xmajor = np.arange(0,1100,100)\n",
    "xminor = np.arange(0,1100,10)\n",
    "\n",
    "ymajor = np.arange(-1,10,1)\n",
    "yminor = np.arange(-1,10,0.1)\n",
    "\n",
    "ax.set_xticks(xmajor)\n",
    "ax.set_xticks(xminor,minor=True)\n",
    "\n",
    "ax.set_yticks(ymajor)\n",
    "ax.set_yticks(yminor,minor=True)\n",
    "\n",
    "\n",
    "plt.plot(N,T)\n",
    "f_t=np.poly1d(np.polyfit(N,T,1))\n",
    "plt.plot(N,f_t(N),linewidth=5,c='red',alpha=0.6)\n",
    "\n",
    "ax.tick_params(which = 'major',direction='in',right='on',top='on',length=6,width=1.3,labelsize=16)\n",
    "ax.tick_params(which = 'minor',direction='in',right='on',top='on',length=3,width=0.5)\n",
    "ax.set_xlim(0,1000)\n",
    "ax.set_ylim(0,5)\n",
    "\n",
    "\n",
    "ax.set_ylabel('Execution Time (ms)',fontsize=20)\n",
    "ax.set_xlabel('N',fontsize=20)\n",
    "\n",
    "ax.tick_params(labelsize=15)\n",
    "plt.show()"
   ]
  },
  {
   "cell_type": "markdown",
   "metadata": {},
   "source": [
    "### Part g)"
   ]
  },
  {
   "cell_type": "code",
   "execution_count": 47,
   "metadata": {},
   "outputs": [
    {
     "name": "stdout",
     "output_type": "stream",
     "text": [
      "N=10000000 will take 6.180186072872847  minutes\n"
     ]
    }
   ],
   "source": [
    "print(\"N=10000000 will take\",f_t(10e7)/1000/60,\" minutes\")"
   ]
  }
 ],
 "metadata": {
  "kernelspec": {
   "display_name": "phys050",
   "language": "python",
   "name": "phys050"
  },
  "language_info": {
   "codemirror_mode": {
    "name": "ipython",
    "version": 3
   },
   "file_extension": ".py",
   "mimetype": "text/x-python",
   "name": "python",
   "nbconvert_exporter": "python",
   "pygments_lexer": "ipython3",
   "version": "3.8.3"
  }
 },
 "nbformat": 4,
 "nbformat_minor": 4
}
