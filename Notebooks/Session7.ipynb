{
 "cells": [
  {
   "cell_type": "markdown",
   "metadata": {},
   "source": [
    "# Naive Bayes spam filtering"
   ]
  },
  {
   "cell_type": "markdown",
   "metadata": {},
   "source": [
    "Consider that you are given with a data set of text messages which are labeled with ham or spam. We will use a training sample with ~4000 text messages, but first let's consider a few examples to get familiar with the naive Bayes idea."
   ]
  },
  {
   "cell_type": "markdown",
   "metadata": {},
   "source": [
    "| Class| Message|Bag of words|\n",
    "| -|:-:|:-:|\n",
    "| Spam| Send us your password| send, password|\n",
    "| Ham| I will send you the letter| send, letter|\n",
    "| Ham| I wrote a letter | write, letter|"
   ]
  },
  {
   "cell_type": "markdown",
   "metadata": {},
   "source": [
    "We want to compute P(Spam|Bag of words). Last session, we learned from Bayes' rule:    "
   ]
  },
  {
   "cell_type": "markdown",
   "metadata": {},
   "source": [
    "\n",
    "<div align=\"center\">$P(\\text{Spam|Bag of words})= \\frac{P(\\text{Bag of words|Spam})P(\\text{Spam})}{P(\\text{Bag of words|Spam})P(\\text{Spam})+P(\\text{Bag of words|Ham})P(\\text{Ham})}$</div>\n",
    "\n"
   ]
  },
  {
   "cell_type": "markdown",
   "metadata": {},
   "source": [
    "P(word|spam) and P(word|ham) can be estimated from the training sample. To avoid zero probabilities, we consider the initial value of 1 for the number of occurence of a word. Note that the priors are P(ham)=$\\frac{2}{3}$ and P(spam)=$\\frac{1}{3}$."
   ]
  },
  {
   "cell_type": "markdown",
   "metadata": {},
   "source": [
    "| Spam| Ham|word|Spam(i=1) |Ham(i=1)|\n",
    "| -|:-:|:-:|:-:|:-:|\n",
    "|$\\frac{1}{2}$ |$\\frac{1}{4}$ |send|$\\frac{1+1}{2+4}$ |$\\frac{1+1}{4+4}$ |\n",
    "|$\\frac{1}{2}$ |$\\frac{0}{4}$ |password|$\\frac{1+1}{2+4}$ |$\\frac{0+1}{4+4}$ |\n",
    "|$\\frac{0}{2}$| $\\frac{2}{4}$|letter|$\\frac{0+1}{2+4}$| $\\frac{2+1}{4+4}$|\n",
    "|$\\frac{0}{2}$ |$\\frac{1}{4}$ |write|$\\frac{0+1}{2+4}$ |$\\frac{1+1}{4+4}$ |\n"
   ]
  },
  {
   "cell_type": "markdown",
   "metadata": {},
   "source": [
    "Now, consider a new text message \"*write your password in the password box*\". We don't have the word \"*box*\" in our training sample, so the safe choice would be to remove this from the bag of words and make decision based on on the other two words, \"*write*\" and \"*password*\". \"*password*\" occured twice. "
   ]
  },
  {
   "cell_type": "markdown",
   "metadata": {},
   "source": [
    "<div align=\"center\">$P(\\text{spam|write,password,password})= \\frac{P(\\text{write|spam})P(\\text{password|spam})P(\\text{password|spam})P(\\text{spam})}{P(\\text{write|Spam})P(\\text{password|Spam})P(\\text{password|spam})P(\\text{Spam})+P(\\text{write|ham})P(\\text{password|ham})P(\\text{password|ham})P(\\text{ham})}$</div>\n"
   ]
  },
  {
   "cell_type": "markdown",
   "metadata": {},
   "source": [
    "<div align=\"center\">$P(\\text{spam|write,password,password})= \\frac{\\frac{1}{6}\\times\\frac{2}{6}\\times\\frac{2}{6}\\times\\frac{1}{3}}{\\frac{1}{6}\\times\\frac{2}{6}\\times\\frac{2}{6}\\times\\frac{1}{3}+\\frac{2}{8}\\times\\frac{1}{8}\\times\\frac{1}{8}\\times\\frac{2}{3}}\\sim 70\\%$</div>\n"
   ]
  },
  {
   "cell_type": "markdown",
   "metadata": {},
   "source": [
    "and $P(\\text{ham|write,password,password})=1-P(\\text{spam|write,password,password})=30\\%$, so we classify this email as a spam message. This was just a demonsteration of the naive Bayes method. Let's use a large data set to build a model and evaluate its performance.  "
   ]
  },
  {
   "cell_type": "code",
   "execution_count": 1,
   "metadata": {},
   "outputs": [],
   "source": [
    "import numpy as np"
   ]
  },
  {
   "cell_type": "code",
   "execution_count": 2,
   "metadata": {},
   "outputs": [],
   "source": [
    "import pandas as pd\n",
    "from collections import Counter"
   ]
  },
  {
   "cell_type": "markdown",
   "metadata": {},
   "source": [
    "NLTK (Natural Language Toolkit) is a set of libraries for Natural Language Processing (NLP)"
   ]
  },
  {
   "cell_type": "code",
   "execution_count": 3,
   "metadata": {},
   "outputs": [
    {
     "name": "stderr",
     "output_type": "stream",
     "text": [
      "[nltk_data] Downloading package stopwords to /Users/zahra/nltk_data...\n",
      "[nltk_data]   Package stopwords is already up-to-date!\n"
     ]
    },
    {
     "data": {
      "text/plain": [
       "True"
      ]
     },
     "execution_count": 3,
     "metadata": {},
     "output_type": "execute_result"
    }
   ],
   "source": [
    "import nltk\n",
    "nltk.download('stopwords')"
   ]
  },
  {
   "cell_type": "markdown",
   "metadata": {},
   "source": [
    "Stop words are the most common words in a language which don't carry much information. We will filter them before NLP"
   ]
  },
  {
   "cell_type": "code",
   "execution_count": 4,
   "metadata": {},
   "outputs": [
    {
     "name": "stdout",
     "output_type": "stream",
     "text": [
      "['i', 'me', 'my', 'myself', 'we']\n"
     ]
    }
   ],
   "source": [
    "stopwords=nltk.corpus.stopwords.words('english')\n",
    "print(stopwords[:5])"
   ]
  },
  {
   "cell_type": "markdown",
   "metadata": {},
   "source": [
    "A word can have many variations with the same meaning. So, we will use stem package to normalize the words."
   ]
  },
  {
   "cell_type": "code",
   "execution_count": 5,
   "metadata": {},
   "outputs": [
    {
     "data": {
      "text/plain": [
       "('cook', 'cook', 'cook')"
      ]
     },
     "execution_count": 5,
     "metadata": {},
     "output_type": "execute_result"
    }
   ],
   "source": [
    "from nltk.stem import PorterStemmer\n",
    "Ps=PorterStemmer()\n",
    "Ps.stem('cook'),Ps.stem('cooking'),Ps.stem('cooked')"
   ]
  },
  {
   "cell_type": "markdown",
   "metadata": {},
   "source": [
    "We also need to remove punctuations, they are not informative in our classification."
   ]
  },
  {
   "cell_type": "code",
   "execution_count": 6,
   "metadata": {},
   "outputs": [
    {
     "name": "stdout",
     "output_type": "stream",
     "text": [
      "!\"#$%&'()*+,-./:;<=>?@[\\]^_`{|}~\n"
     ]
    }
   ],
   "source": [
    "import string\n",
    "punctuations=string.punctuation\n",
    "print(punctuations)"
   ]
  },
  {
   "cell_type": "markdown",
   "metadata": {},
   "source": [
    "Let's load the data:"
   ]
  },
  {
   "cell_type": "code",
   "execution_count": 7,
   "metadata": {},
   "outputs": [
    {
     "data": {
      "text/html": [
       "<div>\n",
       "<style scoped>\n",
       "    .dataframe tbody tr th:only-of-type {\n",
       "        vertical-align: middle;\n",
       "    }\n",
       "\n",
       "    .dataframe tbody tr th {\n",
       "        vertical-align: top;\n",
       "    }\n",
       "\n",
       "    .dataframe thead th {\n",
       "        text-align: right;\n",
       "    }\n",
       "</style>\n",
       "<table border=\"1\" class=\"dataframe\">\n",
       "  <thead>\n",
       "    <tr style=\"text-align: right;\">\n",
       "      <th></th>\n",
       "      <th>Class</th>\n",
       "      <th>Text</th>\n",
       "    </tr>\n",
       "  </thead>\n",
       "  <tbody>\n",
       "    <tr>\n",
       "      <th>0</th>\n",
       "      <td>spam</td>\n",
       "      <td>SMS. ac Blind Date 4U!: Rodds1 is 21/m from Ab...</td>\n",
       "    </tr>\n",
       "    <tr>\n",
       "      <th>1</th>\n",
       "      <td>ham</td>\n",
       "      <td>Yup... From what i remb... I think should be c...</td>\n",
       "    </tr>\n",
       "    <tr>\n",
       "      <th>2</th>\n",
       "      <td>ham</td>\n",
       "      <td>Jos ask if u wana meet up?</td>\n",
       "    </tr>\n",
       "    <tr>\n",
       "      <th>3</th>\n",
       "      <td>ham</td>\n",
       "      <td>Lol yes. Our friendship is hanging on a thread...</td>\n",
       "    </tr>\n",
       "    <tr>\n",
       "      <th>4</th>\n",
       "      <td>spam</td>\n",
       "      <td>TheMob&gt; Check out our newest selection of cont...</td>\n",
       "    </tr>\n",
       "  </tbody>\n",
       "</table>\n",
       "</div>"
      ],
      "text/plain": [
       "  Class                                               Text\n",
       "0  spam  SMS. ac Blind Date 4U!: Rodds1 is 21/m from Ab...\n",
       "1   ham  Yup... From what i remb... I think should be c...\n",
       "2   ham                         Jos ask if u wana meet up?\n",
       "3   ham  Lol yes. Our friendship is hanging on a thread...\n",
       "4  spam  TheMob> Check out our newest selection of cont..."
      ]
     },
     "execution_count": 7,
     "metadata": {},
     "output_type": "execute_result"
    }
   ],
   "source": [
    "data=pd.read_csv('Spam.csv')\n",
    "data.head()"
   ]
  },
  {
   "cell_type": "markdown",
   "metadata": {},
   "source": [
    "Change categorical data into numbers which can be processed in the code"
   ]
  },
  {
   "cell_type": "code",
   "execution_count": 8,
   "metadata": {},
   "outputs": [
    {
     "data": {
      "text/html": [
       "<div>\n",
       "<style scoped>\n",
       "    .dataframe tbody tr th:only-of-type {\n",
       "        vertical-align: middle;\n",
       "    }\n",
       "\n",
       "    .dataframe tbody tr th {\n",
       "        vertical-align: top;\n",
       "    }\n",
       "\n",
       "    .dataframe thead th {\n",
       "        text-align: right;\n",
       "    }\n",
       "</style>\n",
       "<table border=\"1\" class=\"dataframe\">\n",
       "  <thead>\n",
       "    <tr style=\"text-align: right;\">\n",
       "      <th></th>\n",
       "      <th>Class</th>\n",
       "      <th>Text</th>\n",
       "      <th>Class_code</th>\n",
       "    </tr>\n",
       "  </thead>\n",
       "  <tbody>\n",
       "    <tr>\n",
       "      <th>0</th>\n",
       "      <td>spam</td>\n",
       "      <td>SMS. ac Blind Date 4U!: Rodds1 is 21/m from Ab...</td>\n",
       "      <td>1</td>\n",
       "    </tr>\n",
       "    <tr>\n",
       "      <th>1</th>\n",
       "      <td>ham</td>\n",
       "      <td>Yup... From what i remb... I think should be c...</td>\n",
       "      <td>0</td>\n",
       "    </tr>\n",
       "    <tr>\n",
       "      <th>2</th>\n",
       "      <td>ham</td>\n",
       "      <td>Jos ask if u wana meet up?</td>\n",
       "      <td>0</td>\n",
       "    </tr>\n",
       "    <tr>\n",
       "      <th>3</th>\n",
       "      <td>ham</td>\n",
       "      <td>Lol yes. Our friendship is hanging on a thread...</td>\n",
       "      <td>0</td>\n",
       "    </tr>\n",
       "    <tr>\n",
       "      <th>4</th>\n",
       "      <td>spam</td>\n",
       "      <td>TheMob&gt; Check out our newest selection of cont...</td>\n",
       "      <td>1</td>\n",
       "    </tr>\n",
       "  </tbody>\n",
       "</table>\n",
       "</div>"
      ],
      "text/plain": [
       "  Class                                               Text  Class_code\n",
       "0  spam  SMS. ac Blind Date 4U!: Rodds1 is 21/m from Ab...           1\n",
       "1   ham  Yup... From what i remb... I think should be c...           0\n",
       "2   ham                         Jos ask if u wana meet up?           0\n",
       "3   ham  Lol yes. Our friendship is hanging on a thread...           0\n",
       "4  spam  TheMob> Check out our newest selection of cont...           1"
      ]
     },
     "execution_count": 8,
     "metadata": {},
     "output_type": "execute_result"
    }
   ],
   "source": [
    "data['Class_code']=pd.get_dummies(data.Class,drop_first=True)\n",
    "data.head()"
   ]
  },
  {
   "cell_type": "code",
   "execution_count": 9,
   "metadata": {},
   "outputs": [],
   "source": [
    "def train_test_split(dataframe,test_size=0.3,rs=None):\n",
    "    \"\"\"A function which takes pandas dataframe and split it to train and test samples\"\"\"\n",
    "    dataframe_test=dataframe.sample(frac=test_size,random_state=rs)\n",
    "    dataframe_train=dataframe.loc[dataframe.index.difference(dataframe_test.index)]\n",
    "    \n",
    "    return (dataframe_train.reset_index(drop=True),dataframe_test.reset_index(drop=True))"
   ]
  },
  {
   "cell_type": "code",
   "execution_count": 10,
   "metadata": {},
   "outputs": [],
   "source": [
    "data_train,data_test=train_test_split(data,test_size=0.3,rs=4)"
   ]
  },
  {
   "cell_type": "code",
   "execution_count": 11,
   "metadata": {},
   "outputs": [
    {
     "data": {
      "text/html": [
       "<div>\n",
       "<style scoped>\n",
       "    .dataframe tbody tr th:only-of-type {\n",
       "        vertical-align: middle;\n",
       "    }\n",
       "\n",
       "    .dataframe tbody tr th {\n",
       "        vertical-align: top;\n",
       "    }\n",
       "\n",
       "    .dataframe thead th {\n",
       "        text-align: right;\n",
       "    }\n",
       "</style>\n",
       "<table border=\"1\" class=\"dataframe\">\n",
       "  <thead>\n",
       "    <tr style=\"text-align: right;\">\n",
       "      <th></th>\n",
       "      <th>Class</th>\n",
       "      <th>Text</th>\n",
       "      <th>Class_code</th>\n",
       "    </tr>\n",
       "  </thead>\n",
       "  <tbody>\n",
       "    <tr>\n",
       "      <th>0</th>\n",
       "      <td>spam</td>\n",
       "      <td>SMS. ac Blind Date 4U!: Rodds1 is 21/m from Ab...</td>\n",
       "      <td>1</td>\n",
       "    </tr>\n",
       "    <tr>\n",
       "      <th>1</th>\n",
       "      <td>ham</td>\n",
       "      <td>Lol yes. Our friendship is hanging on a thread...</td>\n",
       "      <td>0</td>\n",
       "    </tr>\n",
       "    <tr>\n",
       "      <th>2</th>\n",
       "      <td>spam</td>\n",
       "      <td>TheMob&gt; Check out our newest selection of cont...</td>\n",
       "      <td>1</td>\n",
       "    </tr>\n",
       "    <tr>\n",
       "      <th>3</th>\n",
       "      <td>ham</td>\n",
       "      <td>Where are the garage keys? They aren't on the ...</td>\n",
       "      <td>0</td>\n",
       "    </tr>\n",
       "    <tr>\n",
       "      <th>4</th>\n",
       "      <td>ham</td>\n",
       "      <td>Today is ACCEPT DAY..U Accept me as? Brother S...</td>\n",
       "      <td>0</td>\n",
       "    </tr>\n",
       "  </tbody>\n",
       "</table>\n",
       "</div>"
      ],
      "text/plain": [
       "  Class                                               Text  Class_code\n",
       "0  spam  SMS. ac Blind Date 4U!: Rodds1 is 21/m from Ab...           1\n",
       "1   ham  Lol yes. Our friendship is hanging on a thread...           0\n",
       "2  spam  TheMob> Check out our newest selection of cont...           1\n",
       "3   ham  Where are the garage keys? They aren't on the ...           0\n",
       "4   ham  Today is ACCEPT DAY..U Accept me as? Brother S...           0"
      ]
     },
     "execution_count": 11,
     "metadata": {},
     "output_type": "execute_result"
    }
   ],
   "source": [
    "data_train.head()"
   ]
  },
  {
   "cell_type": "code",
   "execution_count": 12,
   "metadata": {},
   "outputs": [
    {
     "data": {
      "text/html": [
       "<div>\n",
       "<style scoped>\n",
       "    .dataframe tbody tr th:only-of-type {\n",
       "        vertical-align: middle;\n",
       "    }\n",
       "\n",
       "    .dataframe tbody tr th {\n",
       "        vertical-align: top;\n",
       "    }\n",
       "\n",
       "    .dataframe thead th {\n",
       "        text-align: right;\n",
       "    }\n",
       "</style>\n",
       "<table border=\"1\" class=\"dataframe\">\n",
       "  <thead>\n",
       "    <tr style=\"text-align: right;\">\n",
       "      <th></th>\n",
       "      <th>Class</th>\n",
       "      <th>Text</th>\n",
       "      <th>Class_code</th>\n",
       "    </tr>\n",
       "  </thead>\n",
       "  <tbody>\n",
       "    <tr>\n",
       "      <th>0</th>\n",
       "      <td>ham</td>\n",
       "      <td>I also thk too fast... Xy suggest one not me. ...</td>\n",
       "      <td>0</td>\n",
       "    </tr>\n",
       "    <tr>\n",
       "      <th>1</th>\n",
       "      <td>ham</td>\n",
       "      <td>I not busy juz dun wan 2 go so early.. Hee..</td>\n",
       "      <td>0</td>\n",
       "    </tr>\n",
       "    <tr>\n",
       "      <th>2</th>\n",
       "      <td>ham</td>\n",
       "      <td>Thanks honey but still haven't heard anything ...</td>\n",
       "      <td>0</td>\n",
       "    </tr>\n",
       "    <tr>\n",
       "      <th>3</th>\n",
       "      <td>spam</td>\n",
       "      <td>You will recieve your tone within the next 24h...</td>\n",
       "      <td>1</td>\n",
       "    </tr>\n",
       "    <tr>\n",
       "      <th>4</th>\n",
       "      <td>ham</td>\n",
       "      <td>Lol you won't feel bad when I use her money to...</td>\n",
       "      <td>0</td>\n",
       "    </tr>\n",
       "  </tbody>\n",
       "</table>\n",
       "</div>"
      ],
      "text/plain": [
       "  Class                                               Text  Class_code\n",
       "0   ham  I also thk too fast... Xy suggest one not me. ...           0\n",
       "1   ham       I not busy juz dun wan 2 go so early.. Hee..           0\n",
       "2   ham  Thanks honey but still haven't heard anything ...           0\n",
       "3  spam  You will recieve your tone within the next 24h...           1\n",
       "4   ham  Lol you won't feel bad when I use her money to...           0"
      ]
     },
     "execution_count": 12,
     "metadata": {},
     "output_type": "execute_result"
    }
   ],
   "source": [
    "data_test.head()"
   ]
  },
  {
   "cell_type": "markdown",
   "metadata": {},
   "source": [
    "Cleaning up one of the text messages as an example:"
   ]
  },
  {
   "cell_type": "code",
   "execution_count": 19,
   "metadata": {},
   "outputs": [
    {
     "name": "stdout",
     "output_type": "stream",
     "text": [
      "Here is your discount code RP176781. To stop further messages reply stop. www.regalportfolio.co.uk. Customer Services 08717205546\n"
     ]
    }
   ],
   "source": [
    "message=data_train.Text[44]\n",
    "print(message)"
   ]
  },
  {
   "cell_type": "code",
   "execution_count": 20,
   "metadata": {},
   "outputs": [
    {
     "name": "stdout",
     "output_type": "stream",
     "text": [
      "here is your discount code rp176781. to stop further messages reply stop. www.regalportfolio.co.uk. customer services 08717205546\n"
     ]
    }
   ],
   "source": [
    "# convert to lower case\n",
    "message=message.lower()\n",
    "print(message)"
   ]
  },
  {
   "cell_type": "code",
   "execution_count": 21,
   "metadata": {},
   "outputs": [
    {
     "name": "stdout",
     "output_type": "stream",
     "text": [
      "here is your discount code rp176781 to stop further messages reply stop wwwregalportfoliocouk customer services 08717205546\n"
     ]
    }
   ],
   "source": [
    "message=''.join([x for x in message if x not in punctuations])\n",
    "print(message)"
   ]
  },
  {
   "cell_type": "code",
   "execution_count": 22,
   "metadata": {},
   "outputs": [
    {
     "name": "stdout",
     "output_type": "stream",
     "text": [
      "['discount', 'code', 'rp176781', 'stop', 'messages', 'reply', 'stop', 'wwwregalportfoliocouk', 'customer', 'services', '08717205546']\n"
     ]
    }
   ],
   "source": [
    "message=[x for x in message.split() if x not in stopwords]\n",
    "print(message)"
   ]
  },
  {
   "cell_type": "code",
   "execution_count": 23,
   "metadata": {},
   "outputs": [
    {
     "name": "stdout",
     "output_type": "stream",
     "text": [
      "['discount', 'code', 'rp176781', 'stop', 'messag', 'repli', 'stop', 'wwwregalportfoliocouk', 'custom', 'servic', '08717205546']\n"
     ]
    }
   ],
   "source": [
    "message=[Ps.stem(x) for x in message]\n",
    "print(message)"
   ]
  },
  {
   "cell_type": "code",
   "execution_count": 24,
   "metadata": {},
   "outputs": [
    {
     "name": "stdout",
     "output_type": "stream",
     "text": [
      "Counter({'stop': 2, 'discount': 1, 'code': 1, 'rp176781': 1, 'messag': 1, 'repli': 1, 'wwwregalportfoliocouk': 1, 'custom': 1, 'servic': 1, '08717205546': 1})\n"
     ]
    }
   ],
   "source": [
    "print(Counter(message))"
   ]
  },
  {
   "cell_type": "markdown",
   "metadata": {},
   "source": [
    "Now put them together in a function"
   ]
  },
  {
   "cell_type": "code",
   "execution_count": 25,
   "metadata": {},
   "outputs": [],
   "source": [
    "def clean_message(message):\n",
    "    \"\"\"a function to clean up message and return a dict with bag of their occurence rate\"\"\"\n",
    "    message=message.lower()\n",
    "    message=''.join([x for x in message if x not in punctuations])\n",
    "    message=[x for x in message.split() if x not in stopwords]\n",
    "    message=[Ps.stem(x) for x in message]\n",
    "    return(Counter(message))"
   ]
  },
  {
   "cell_type": "code",
   "execution_count": 26,
   "metadata": {},
   "outputs": [
    {
     "name": "stdout",
     "output_type": "stream",
     "text": [
      "Alright i have a new goal now\n",
      "Counter({'alright': 1, 'new': 1, 'goal': 1})\n"
     ]
    }
   ],
   "source": [
    "print(data_train.Text[80])\n",
    "print(clean_message(data_train.Text[80]))"
   ]
  },
  {
   "cell_type": "markdown",
   "metadata": {},
   "source": [
    "Apply the function to all the data set"
   ]
  },
  {
   "cell_type": "code",
   "execution_count": 27,
   "metadata": {},
   "outputs": [
    {
     "data": {
      "text/html": [
       "<div>\n",
       "<style scoped>\n",
       "    .dataframe tbody tr th:only-of-type {\n",
       "        vertical-align: middle;\n",
       "    }\n",
       "\n",
       "    .dataframe tbody tr th {\n",
       "        vertical-align: top;\n",
       "    }\n",
       "\n",
       "    .dataframe thead th {\n",
       "        text-align: right;\n",
       "    }\n",
       "</style>\n",
       "<table border=\"1\" class=\"dataframe\">\n",
       "  <thead>\n",
       "    <tr style=\"text-align: right;\">\n",
       "      <th></th>\n",
       "      <th>Class</th>\n",
       "      <th>Text</th>\n",
       "      <th>Class_code</th>\n",
       "      <th>bag_of_words</th>\n",
       "    </tr>\n",
       "  </thead>\n",
       "  <tbody>\n",
       "    <tr>\n",
       "      <th>0</th>\n",
       "      <td>spam</td>\n",
       "      <td>SMS. ac Blind Date 4U!: Rodds1 is 21/m from Ab...</td>\n",
       "      <td>1</td>\n",
       "      <td>{'sm': 2, 'ac': 1, 'blind': 2, 'date': 2, '4u'...</td>\n",
       "    </tr>\n",
       "    <tr>\n",
       "      <th>1</th>\n",
       "      <td>ham</td>\n",
       "      <td>Lol yes. Our friendship is hanging on a thread...</td>\n",
       "      <td>0</td>\n",
       "      <td>{'lol': 1, 'ye': 1, 'friendship': 1, 'hang': 1...</td>\n",
       "    </tr>\n",
       "    <tr>\n",
       "      <th>2</th>\n",
       "      <td>spam</td>\n",
       "      <td>TheMob&gt; Check out our newest selection of cont...</td>\n",
       "      <td>1</td>\n",
       "      <td>{'themob': 1, 'check': 1, 'newest': 1, 'select...</td>\n",
       "    </tr>\n",
       "    <tr>\n",
       "      <th>3</th>\n",
       "      <td>ham</td>\n",
       "      <td>Where are the garage keys? They aren't on the ...</td>\n",
       "      <td>0</td>\n",
       "      <td>{'garag': 1, 'key': 1, 'arent': 1, 'bookshelf'...</td>\n",
       "    </tr>\n",
       "    <tr>\n",
       "      <th>4</th>\n",
       "      <td>ham</td>\n",
       "      <td>Today is ACCEPT DAY..U Accept me as? Brother S...</td>\n",
       "      <td>0</td>\n",
       "      <td>{'today': 1, 'accept': 2, 'dayu': 1, 'brother'...</td>\n",
       "    </tr>\n",
       "  </tbody>\n",
       "</table>\n",
       "</div>"
      ],
      "text/plain": [
       "  Class                                               Text  Class_code  \\\n",
       "0  spam  SMS. ac Blind Date 4U!: Rodds1 is 21/m from Ab...           1   \n",
       "1   ham  Lol yes. Our friendship is hanging on a thread...           0   \n",
       "2  spam  TheMob> Check out our newest selection of cont...           1   \n",
       "3   ham  Where are the garage keys? They aren't on the ...           0   \n",
       "4   ham  Today is ACCEPT DAY..U Accept me as? Brother S...           0   \n",
       "\n",
       "                                        bag_of_words  \n",
       "0  {'sm': 2, 'ac': 1, 'blind': 2, 'date': 2, '4u'...  \n",
       "1  {'lol': 1, 'ye': 1, 'friendship': 1, 'hang': 1...  \n",
       "2  {'themob': 1, 'check': 1, 'newest': 1, 'select...  \n",
       "3  {'garag': 1, 'key': 1, 'arent': 1, 'bookshelf'...  \n",
       "4  {'today': 1, 'accept': 2, 'dayu': 1, 'brother'...  "
      ]
     },
     "execution_count": 27,
     "metadata": {},
     "output_type": "execute_result"
    }
   ],
   "source": [
    "data_train['bag_of_words']=data_train['Text'].apply(clean_message)\n",
    "data_train.head()"
   ]
  },
  {
   "cell_type": "code",
   "execution_count": 28,
   "metadata": {},
   "outputs": [],
   "source": [
    "bows=data_train.bag_of_words"
   ]
  },
  {
   "cell_type": "code",
   "execution_count": 29,
   "metadata": {},
   "outputs": [],
   "source": [
    "bows_ham=data_train[data_train.Class_code==0].bag_of_words\n",
    "bows_spam=data_train[data_train.Class_code==1].bag_of_words"
   ]
  },
  {
   "cell_type": "code",
   "execution_count": 30,
   "metadata": {},
   "outputs": [],
   "source": [
    "words=list(set().union(*bows))"
   ]
  },
  {
   "cell_type": "code",
   "execution_count": 31,
   "metadata": {},
   "outputs": [],
   "source": [
    "number_of_occurence_ham={key:1 for key in words}\n",
    "for word in words:\n",
    "    for bow in bows_ham:\n",
    "        if word in bow.keys():\n",
    "            number_of_occurence_ham[word]+=bow[word]"
   ]
  },
  {
   "cell_type": "code",
   "execution_count": 32,
   "metadata": {},
   "outputs": [
    {
     "data": {
      "text/plain": [
       "39"
      ]
     },
     "execution_count": 32,
     "metadata": {},
     "output_type": "execute_result"
    }
   ],
   "source": [
    "number_of_occurence_ham['soon']"
   ]
  },
  {
   "cell_type": "code",
   "execution_count": 33,
   "metadata": {},
   "outputs": [],
   "source": [
    "number_of_occurence_spam={key:1 for key in words}\n",
    "for word in words:\n",
    "    for bow in bows_spam:\n",
    "        if word in bow.keys():\n",
    "            number_of_occurence_spam[word]+=bow[word]"
   ]
  },
  {
   "cell_type": "code",
   "execution_count": 34,
   "metadata": {},
   "outputs": [
    {
     "data": {
      "text/plain": [
       "131"
      ]
     },
     "execution_count": 34,
     "metadata": {},
     "output_type": "execute_result"
    }
   ],
   "source": [
    "number_of_occurence_spam['free']"
   ]
  },
  {
   "cell_type": "markdown",
   "metadata": {},
   "source": [
    "Probability of a word given that the text is ham/spam"
   ]
  },
  {
   "cell_type": "code",
   "execution_count": 35,
   "metadata": {},
   "outputs": [],
   "source": [
    "P_word_h={}\n",
    "P_word_s={}\n",
    "for key in number_of_occurence_ham:\n",
    "    P_word_h[key]=number_of_occurence_ham[key]/sum(number_of_occurence_ham.values())\n",
    "for key in number_of_occurence_spam:\n",
    "    P_word_s[key]=number_of_occurence_spam[key]/sum(number_of_occurence_spam.values())   "
   ]
  },
  {
   "cell_type": "markdown",
   "metadata": {},
   "source": [
    "Finding the priors"
   ]
  },
  {
   "cell_type": "code",
   "execution_count": 36,
   "metadata": {},
   "outputs": [],
   "source": [
    "P_h=bows_ham.size/bows.size\n",
    "P_s=bows_spam.size/bows.size"
   ]
  },
  {
   "cell_type": "code",
   "execution_count": 37,
   "metadata": {},
   "outputs": [
    {
     "name": "stdout",
     "output_type": "stream",
     "text": [
      "0.1238262910798122\n",
      "0.8761737089201878\n"
     ]
    }
   ],
   "source": [
    "print(P_s)\n",
    "print(P_h)"
   ]
  },
  {
   "cell_type": "markdown",
   "metadata": {},
   "source": [
    "Define the main classifier function"
   ]
  },
  {
   "cell_type": "code",
   "execution_count": 38,
   "metadata": {},
   "outputs": [],
   "source": [
    "def classifier(document):\n",
    "    document_bag_of_words=clean_message(document)\n",
    "    P_document_h=1\n",
    "    P_document_s=1\n",
    "    for key in document_bag_of_words:\n",
    "        if key in words:\n",
    "            P_document_h=P_document_h*P_word_h[key]\n",
    "            P_document_s=P_document_s*P_word_s[key]\n",
    "    P_document_h=P_document_h*P_h\n",
    "    P_document_s=P_document_s*P_s\n",
    "    \n",
    "    Pr_doc_h_normalized=P_document_h/(P_document_h+P_document_s)\n",
    "    \n",
    "    if Pr_doc_h_normalized>0.5:\n",
    "        return 0\n",
    "    else:\n",
    "        return 1\n",
    "classifier=np.vectorize(classifier)"
   ]
  },
  {
   "cell_type": "code",
   "execution_count": 39,
   "metadata": {},
   "outputs": [
    {
     "data": {
      "text/plain": [
       "array(1)"
      ]
     },
     "execution_count": 39,
     "metadata": {},
     "output_type": "execute_result"
    }
   ],
   "source": [
    "classifier('congratulations! you won $500')"
   ]
  },
  {
   "cell_type": "code",
   "execution_count": 40,
   "metadata": {},
   "outputs": [
    {
     "data": {
      "text/plain": [
       "array(0)"
      ]
     },
     "execution_count": 40,
     "metadata": {},
     "output_type": "execute_result"
    }
   ],
   "source": [
    "classifier(\"Let's apply this model to the test sample\")"
   ]
  },
  {
   "cell_type": "code",
   "execution_count": 41,
   "metadata": {},
   "outputs": [],
   "source": [
    "prediction=classifier(data_test.Text.values)"
   ]
  },
  {
   "cell_type": "code",
   "execution_count": 42,
   "metadata": {},
   "outputs": [],
   "source": [
    "T=data_test.Class_code"
   ]
  },
  {
   "cell_type": "code",
   "execution_count": 43,
   "metadata": {},
   "outputs": [],
   "source": [
    "TP,TN,FP,FN=0,0,0,0\n",
    "for i in range(len(T)):\n",
    "    if T[i]==1:\n",
    "        if prediction[i]==1:\n",
    "            TP+=1\n",
    "        if prediction[i]==0:\n",
    "            FN+=1\n",
    "    if T[i]==0:\n",
    "        if prediction[i]==1:\n",
    "            FP+=1\n",
    "        if prediction[i]==0:\n",
    "            TN+=1"
   ]
  },
  {
   "cell_type": "markdown",
   "metadata": {},
   "source": [
    "Confusion matrix"
   ]
  },
  {
   "cell_type": "code",
   "execution_count": 44,
   "metadata": {},
   "outputs": [
    {
     "name": "stdout",
     "output_type": "stream",
     "text": [
      "[[ 168    8]\n",
      " [  19 1266]]\n"
     ]
    }
   ],
   "source": [
    "print(np.array([[TP,FP],[FN,TN]]))"
   ]
  },
  {
   "cell_type": "code",
   "execution_count": 45,
   "metadata": {},
   "outputs": [
    {
     "name": "stdout",
     "output_type": "stream",
     "text": [
      "precision= 0.9545454545454546\n"
     ]
    }
   ],
   "source": [
    "precision=TP/(TP+FP)\n",
    "print(\"precision=\",precision)"
   ]
  },
  {
   "cell_type": "code",
   "execution_count": 46,
   "metadata": {},
   "outputs": [
    {
     "name": "stdout",
     "output_type": "stream",
     "text": [
      "recall= 0.8983957219251337\n"
     ]
    }
   ],
   "source": [
    "recall=TP/(TP+FN)\n",
    "print(\"recall=\",recall)"
   ]
  },
  {
   "cell_type": "code",
   "execution_count": 47,
   "metadata": {},
   "outputs": [
    {
     "name": "stdout",
     "output_type": "stream",
     "text": [
      "F1_score= 0.9256198347107438\n"
     ]
    }
   ],
   "source": [
    "F1_score=2*precision*recall/(precision+recall)\n",
    "print(\"F1_score=\",F1_score)"
   ]
  },
  {
   "cell_type": "code",
   "execution_count": 48,
   "metadata": {},
   "outputs": [
    {
     "name": "stdout",
     "output_type": "stream",
     "text": [
      "accuracy= 0.9815195071868583\n"
     ]
    }
   ],
   "source": [
    "accuracy=(TP+TN)/(TP+FP+FN+TN)\n",
    "print(\"accuracy=\",accuracy)"
   ]
  }
 ],
 "metadata": {
  "kernelspec": {
   "display_name": "Python 3",
   "language": "python",
   "name": "python3"
  },
  "language_info": {
   "codemirror_mode": {
    "name": "ipython",
    "version": 3
   },
   "file_extension": ".py",
   "mimetype": "text/x-python",
   "name": "python",
   "nbconvert_exporter": "python",
   "pygments_lexer": "ipython3",
   "version": "3.7.6"
  }
 },
 "nbformat": 4,
 "nbformat_minor": 4
}
